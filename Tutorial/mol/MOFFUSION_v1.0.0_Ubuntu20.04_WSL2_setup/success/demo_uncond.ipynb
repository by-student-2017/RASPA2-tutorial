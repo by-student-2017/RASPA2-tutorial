{
 "cells": [
  {
   "attachments": {},
   "cell_type": "markdown",
   "metadata": {},
   "source": [
    "# Demo for Unconditional Generation"
   ]
  },
  {
   "cell_type": "code",
   "execution_count": 1,
   "metadata": {},
   "outputs": [],
   "source": [
    "# Designate GPU to use\n",
    "import os\n",
    "gpu_ids = 0\n",
    "os.environ[\"CUDA_VISIBLE_DEVICES\"] = f\"{gpu_ids}\""
   ]
  },
  {
   "cell_type": "code",
   "execution_count": 2,
   "metadata": {},
   "outputs": [
    {
     "name": "stderr",
     "output_type": "stream",
     "text": [
      "/home/inukai/miniconda3/envs/moffusion/lib/python3.9/site-packages/requests/__init__.py:86: RequestsDependencyWarning: Unable to find acceptable character detection dependency (chardet or charset_normalizer).\n",
      "  warnings.warn(\n",
      ">>> Console logs (under WARNING level) are disabled.\n",
      "WARNING:root:File logs (under WARNING level) are disabled.\n",
      ">>> Console logs (under WARNING level) are disabled.\n",
      "WARNING:root:File logs (under WARNING level) are disabled.\n"
     ]
    }
   ],
   "source": [
    "# import libraries\n",
    "import numpy as np\n",
    "from PIL import Image\n",
    "from pathlib import Path\n",
    "from IPython.display import Image as ipy_image\n",
    "from IPython.display import display\n",
    "from termcolor import colored, cprint\n",
    "\n",
    "import torch\n",
    "import torch.backends.cudnn as cudnn\n",
    "cudnn.benchmark = True\n",
    "import torchvision.utils as vutils\n",
    "import torch.nn.functional as F\n",
    "\n",
    "from collections import OrderedDict\n",
    "from models.base_model import create_model\n",
    "from utils.util_3d import render_sdf, render_mesh, sdf_to_mesh, save_mesh_as_gif\n",
    "from utils.build_materials import build_materials\n",
    "from utils.pormake_serialize import serialize\n",
    "from sklearn.preprocessing import LabelEncoder\n",
    "import joblib\n",
    "\n",
    "from visualize.visualizer import MOFVisualizer, animate, resize_gif, make_concat_gif\n",
    "from PIL import Image, ImageSequence\n",
    "import matplotlib.pyplot as plt\n",
    "import glob\n",
    "import os\n",
    "\n",
    "import warnings\n",
    "warnings.filterwarnings(\"ignore\")\n",
    "os.environ[\"TOKENIZERS_PARALLELISM\"] = \"false\"\n",
    "\n",
    "%load_ext autoreload\n",
    "%autoreload 2"
   ]
  },
  {
   "cell_type": "code",
   "execution_count": 3,
   "metadata": {},
   "outputs": [
    {
     "name": "stdout",
     "output_type": "stream",
     "text": [
      "[*] MOFFUSIONTestOption initialized.\n"
     ]
    }
   ],
   "source": [
    "# Options for the model. please check `utils/demo_util.py` for more details\n",
    "from utils.demo_util import MOFFUSIONOpt\n",
    "\n",
    "seed = 42\n",
    "opt = MOFFUSIONOpt(gpu_ids=gpu_ids, seed=seed)\n",
    "device = opt.device"
   ]
  },
  {
   "cell_type": "code",
   "execution_count": 4,
   "metadata": {},
   "outputs": [
    {
     "name": "stdout",
     "output_type": "stream",
     "text": [
      "\u001b[34m[*] VQVAE: weight successfully load from: ./saved_ckpt/vqvae.pth\u001b[0m\n",
      "\u001b[34m[*] weight successfully load from: ./saved_ckpt/moffusion_uncond.pth\u001b[0m\n",
      "\u001b[34m[*] setting ddim_steps=200\u001b[0m\n",
      "\u001b[34m[*] Model has been created: MOFFUSION-Model\u001b[0m\n",
      "\u001b[36m[*] \"MOFFUSION-Model\" loaded.\u001b[0m\n"
     ]
    }
   ],
   "source": [
    "# Initialize MOFFUSION model\n",
    "opt.init_model_args()\n",
    "\n",
    "MOFFUSION = create_model(opt)\n",
    "cprint(f'[*] \"{MOFFUSION.name()}\" loaded.', 'cyan')"
   ]
  },
  {
   "cell_type": "code",
   "execution_count": 5,
   "metadata": {},
   "outputs": [
    {
     "name": "stdout",
     "output_type": "stream",
     "text": [
      "\u001b[34m[*] weight successfully load from: ./saved_ckpt/mof_constructor_topo.pth\u001b[0m\n",
      "\u001b[34m[*] Model has been created: MOF-Constructor_Topo-Model\u001b[0m\n",
      "\u001b[36m[*] \"mof_constructor_topo\" initialized.\u001b[0m\n",
      "\u001b[34m[*] weight successfully load from: ./saved_ckpt/mof_constructor_BB.pth\u001b[0m\n",
      "\u001b[34m[*] Model has been created: MOF-Constructor_BB-Model\u001b[0m\n",
      "\u001b[36m[*] \"mof_constructor_BB\" initialized.\u001b[0m\n"
     ]
    }
   ],
   "source": [
    "# Initialize Cascaded MOF Constructor\n",
    "# A model for topology prediction\n",
    "opt.model = opt.res_topo_model\n",
    "opt.ckpt = opt.res_topo_ckpt\n",
    "res_topo_model = create_model(opt)\n",
    "cprint(f'[*] \"{opt.model}\" initialized.', 'cyan')\n",
    "\n",
    "\n",
    "# A model for building blocks prediction\n",
    "opt.model = opt.res_BB_model\n",
    "opt.ckpt = opt.res_BB_ckpt\n",
    "res_BB_model = create_model(opt)\n",
    "cprint(f'[*] \"{opt.model}\" initialized.', 'cyan')"
   ]
  },
  {
   "cell_type": "code",
   "execution_count": 6,
   "metadata": {},
   "outputs": [
    {
     "name": "stdout",
     "output_type": "stream",
     "text": [
      "\u001b[36mCaution! A folder with the same name might cause undesired situations. Please remove the old folder.\u001b[0m\n"
     ]
    }
   ],
   "source": [
    "# Designate a total number of generation attempts, and a repository to save\n",
    "# If ngen is too large, it is recommended to split it into several batches \n",
    "\n",
    "ngen=20\n",
    "save_dir='./samples/Demo_uncond'\n",
    "save_dir_path = Path(save_dir)\n",
    "if save_dir_path.exists():\n",
    "    cprint('Caution! A folder with the same name might cause undesired situations. Please remove the old folder.', 'cyan')\n",
    "save_dir_path.mkdir(exist_ok=True)"
   ]
  },
  {
   "cell_type": "code",
   "execution_count": 7,
   "metadata": {},
   "outputs": [
    {
     "name": "stdout",
     "output_type": "stream",
     "text": [
      "Data shape for DDIM sampling is (20, 3, 8, 8, 8), eta 0.0\n",
      "Running DDIM Sampling with 200 timesteps\n"
     ]
    },
    {
     "name": "stderr",
     "output_type": "stream",
     "text": [
      "DDIM Sampler: 100%|███████████████████████████████████████████████████████████████████| 200/200 [00:29<00:00,  6.90it/s]\n"
     ]
    },
    {
     "name": "stdout",
     "output_type": "stream",
     "text": [
      "\u001b[36m[*] SDF Generated\u001b[0m\n"
     ]
    }
   ],
   "source": [
    "# Generation Begins!\n",
    "MOFFUSION.uncond(ngen=ngen)\n",
    "gen_df = MOFFUSION.gen_df\n",
    "\n",
    "# Save generated SDFs into repository\n",
    "for i in range(len(gen_df)):\n",
    "    np.save(f'{save_dir}/{i}.npy', gen_df[i].detach().cpu())\n",
    "\n",
    "cprint(f'[*] SDF Generated', 'cyan')"
   ]
  },
  {
   "cell_type": "code",
   "execution_count": 8,
   "metadata": {},
   "outputs": [
    {
     "name": "stdout",
     "output_type": "stream",
     "text": [
      "\u001b[36m[*] Topology Predicted\u001b[0m\n",
      "\u001b[36m[*] Building Blocks Predicted\u001b[0m\n",
      "\u001b[36m[*] Result saved in ./samples/Demo_uncond/MOF_Constructor_output.txt\u001b[0m\n"
     ]
    }
   ],
   "source": [
    "# Obtain MOFs Tthrough MOF Constructor\n",
    "\n",
    "# initialize Enocders for topology/node/edge\n",
    "topo_encoder = opt.encoders['topo'] \n",
    "node_encoder = opt.encoders['node'] \n",
    "edge_encoder = opt.encoders['edge'] \n",
    "\n",
    "\n",
    "# 1. Cascaded MOF Constructor (Topology)\n",
    "topo_pred = res_topo_model.predict(gen_df)\n",
    "cprint(f'[*] Topology Predicted', 'cyan')\n",
    "\n",
    "\n",
    "# 2. Cascaded MOF Constructor (Building Blocks)\n",
    "mof_pred = res_BB_model.predict(gen_df, topo_pred)\n",
    "cprint(f'[*] Building Blocks Predicted', 'cyan')\n",
    "\n",
    "\n",
    "# Save result as text file\n",
    "with open (f'{save_dir}/MOF_Constructor_output.txt', 'a') as f:\n",
    "    for mof in mof_pred:\n",
    "        topos = topo_encoder.inverse_transform(mof[0].tolist())\n",
    "        nodes_1 = node_encoder.inverse_transform(mof[1].tolist())\n",
    "        nodes_2 = node_encoder.inverse_transform(mof[2].tolist())       \n",
    "        edges = edge_encoder.inverse_transform(mof[3].tolist())    \n",
    "\n",
    "        if nodes_2 == 'N0':\n",
    "            f.write(topos[0]+'+'+nodes_1[0]+'+'+edges[0]+'\\n')\n",
    "        else:\n",
    "            f.write(topos[0]+'+'+nodes_1[0]+'+'+nodes_2[0]+'+'+edges[0]+'\\n') \n",
    "\n",
    "cprint(f'[*] Result saved in {save_dir}/MOF_Constructor_output.txt', 'cyan')"
   ]
  },
  {
   "cell_type": "code",
   "execution_count": 9,
   "metadata": {},
   "outputs": [
    {
     "name": "stdout",
     "output_type": "stream",
     "text": [
      "Start generation.\n",
      "yfx+N572+E67 "
     ]
    },
    {
     "name": "stderr",
     "output_type": "stream",
     "text": [
      "WARNING:jax._src.xla_bridge:An NVIDIA GPU may be present on this machine, but a CUDA-enabled jaxlib is not installed. Falling back to cpu.\n"
     ]
    },
    {
     "name": "stdout",
     "output_type": "stream",
     "text": [
      "Success (small).\n",
      "wkj+N555+E50 Success (small).\n",
      "xfy+N383+E136 Success (small).\n",
      "umb+N449+E38 Success (small).\n",
      "vbn+N554+E183 Success (small).\n",
      "fnh+N172+E63 Success (small).\n",
      "wld+N179+E128 Success (small).\n",
      "zzz+N164+N275+E150 Success (small).\n",
      "yfj+N671+E195 Success (small).\n",
      "alb+N328+N648+E12 Success (small).\n",
      "wgz+N308+E184 Success (small).\n",
      "fst+N383+E184 Success (small).\n",
      "vbn+N125+E89 Success (small).\n",
      "fnt+N391+E98 Success (small).\n",
      "ofo+N245+E120 Success (small).\n",
      "yan+N233+E219 Success (small).\n",
      "qtz-x+N221+E78 Success (small).\n",
      "whc+N102+E154 Success (small).\n",
      "vbj+N572+E15 Success (small).\n",
      "snl+N162+E15 Success (small).\n",
      "yfx+N572+E67 Success (small).\n",
      "wkj+N555+E50 Success (small).\n",
      "xfy+N383+E136 Success (small).\n",
      "umb+N449+E38 Success (small).\n",
      "vbn+N554+E183 Success (small).\n",
      "fnh+N172+E63 Success (small).\n",
      "wld+N179+E128 Success (small).\n",
      "zzz+N164+N275+E150 Success (small).\n",
      "yfj+N671+E195 Success (small).\n",
      "alb+N328+N648+E12 Success (small).\n",
      "wgz+N144+E184 Success (small).\n",
      "fst+N383+E184 Success (small).\n",
      "vbn+N125+E89 Success (small).\n",
      "fnt+N391+E98 Success (small).\n",
      "ofo+N245+E120 Success (small).\n",
      "yan+N233+E219 Success (small).\n",
      "qtz-x+N221+E78 Success (small).\n",
      "whc+N102+E154 Success (small).\n",
      "vbj+N572+E15 Success (small).\n",
      "snl+N162+E15 Success (small).\n",
      "End generation.\n",
      "\u001b[36m[*] MOFs Generated in ./samples/Demo_uncond/mof_success\u001b[0m\n"
     ]
    }
   ],
   "source": [
    "# Generate MOF structures using PORMAKE\n",
    "\n",
    "# For convenience, generated structures are divided as follows:\n",
    "# mof_gen_success : generated MOFs with cell length smaller than 60 Å\n",
    "# mof_gen_large : generated MOFs with cell length larger than 60 Å\n",
    "\n",
    "# Prepare repositories to store\n",
    "\n",
    "mof_gen_success = f'{save_dir}/mof_success'\n",
    "mof_gen_large = f'{save_dir}/mof_large_cell'\n",
    "\n",
    "success_dir = Path(mof_gen_success)\n",
    "success_dir.mkdir(exist_ok=True)\n",
    "\n",
    "fail_dir = Path(mof_gen_large)\n",
    "fail_dir.mkdir(exist_ok=True)\n",
    "\n",
    "# Start generation\n",
    "try:\n",
    "    build_materials(candidate_file = f'{save_dir}/MOF_Constructor_output.txt', save_dir = mof_gen_success, large_dir = mof_gen_large)\n",
    "except FileNotFoundError:\n",
    "    pass\n",
    "\n",
    "cprint(f'[*] MOFs Generated in {save_dir}/mof_success', 'cyan')"
   ]
  },
  {
   "cell_type": "code",
   "execution_count": null,
   "metadata": {},
   "outputs": [],
   "source": [
    "## This process might take 2~3 minutes\n",
    "# Generate .gif of MOFs and visualize \n",
    "# Repository that gifs will be stored\n",
    "mof_gif_dir = f'{save_dir}/mof_success_gif'\n",
    "\n",
    "gif_dir = Path(mof_gif_dir)\n",
    "gif_dir.mkdir(exist_ok=True)\n",
    "\n",
    "# Generate gifs\n",
    "make_concat_gif(cif_dir = mof_gen_success, gif_dir = mof_gif_dir)\n",
    "display(ipy_image(f'{mof_gif_dir}/mof_concat.gif'))\n",
    "cprint('Please note that these structures have yet to be optimized', 'cyan')"
   ]
  }
 ],
 "metadata": {
  "kernelspec": {
   "display_name": "Python 3 (ipykernel)",
   "language": "python",
   "name": "python3"
  },
  "language_info": {
   "codemirror_mode": {
    "name": "ipython",
    "version": 3
   },
   "file_extension": ".py",
   "mimetype": "text/x-python",
   "name": "python",
   "nbconvert_exporter": "python",
   "pygments_lexer": "ipython3",
   "version": "3.9.18"
  },
  "vscode": {
   "interpreter": {
    "hash": "c9bb85e944c303a90ba1b7f3901817f7bc3ecb5f736863b2299a6fa67a7b3c89"
   }
  }
 },
 "nbformat": 4,
 "nbformat_minor": 4
}
